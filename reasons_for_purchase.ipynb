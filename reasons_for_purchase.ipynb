{
 "cells": [
  {
   "cell_type": "code",
   "execution_count": 1,
   "id": "cc18b5f7-2a60-41bc-8ade-4ee63f837400",
   "metadata": {},
   "outputs": [],
   "source": [
    "import pandas as pd"
   ]
  },
  {
   "cell_type": "code",
   "execution_count": 3,
   "id": "3ac9e4fd-d8fb-41ba-a900-09e0d875ce9f",
   "metadata": {},
   "outputs": [],
   "source": [
    "sales = pd.read_csv('Trans_TWSupport Sale w. Cash Discount (v15)_1_935.csv')"
   ]
  },
  {
   "cell_type": "code",
   "execution_count": 4,
   "id": "9a92ec0e-4482-41a3-bd14-5d0b4f634ed0",
   "metadata": {},
   "outputs": [
    {
     "data": {
      "text/plain": [
       "Index(['startDate', 'endDate', 'Date', 'gps x', 'gps y', 'Mobile User',\n",
       "       'Non achtè / Buyer's First Name', 'Siyati achtè a / Buyer's Last Name',\n",
       "       'Telefon Natcom achtè a / Buyer's Natcom Phone Number',\n",
       "       'Buyer's Digicel Phone Number / Buyer's Digicel Phone Number',\n",
       "       'Konbyen moun ki abite lakay achtè a / How many people live in the buyers house?',\n",
       "       'Poukisa w’ap achte filtè sa a? / Why are you buying the product?',\n",
       "       'Location ID', 'Source Warehouse ID', 'Pricebook ID', 'Product ID',\n",
       "       'Product Name', 'Quantity', 'Unit price', 'Last Qty Delivered',\n",
       "       'Order Type', 'Currency', 'Dat Vann / Date of Sale',\n",
       "       'Expected Delivery Date', 'Direct Order', 'Status', 'Entrepreneur ID',\n",
       "       'Business ID', 'Buyer Record Type', 'Expected Deposit Amount',\n",
       "       'Pri pwodwi / Product Price',\n",
       "       'Kantite lajan rabè lajan kach / Cash Discount Amount',\n",
       "       'Pri total pwodwi / Total Product Price',\n",
       "       'Pri Lajan Kach Total / Total Cash Discount Price', 'Kontra Foto',\n",
       "       'Nimewo Kontra', 'Kod pwodwi a', 'Rabè Lajan Kach / Cash Discount',\n",
       "       'Èske ou pral peye an plen kounye a? / Are you going to pay in full now?',\n",
       "       'Loan Name', 'Kantite lajan Depo Espere / Deposit Amount Expected',\n",
       "       'montan depoze / Deposit Amount', 'Peman espere / Payment Expected',\n",
       "       'Kantite lajan Peman Lajan Kach / Cash Payment Amount'],\n",
       "      dtype='object')"
      ]
     },
     "execution_count": 4,
     "metadata": {},
     "output_type": "execute_result"
    }
   ],
   "source": [
    "sales.columns"
   ]
  },
  {
   "cell_type": "code",
   "execution_count": 6,
   "id": "05f3e4f4-3b58-4dbc-a8d9-fe5ce5ca8acf",
   "metadata": {},
   "outputs": [],
   "source": [
    "reasons = sales['Poukisa w’ap achte filtè sa a? / Why are you buying the product?']"
   ]
  },
  {
   "cell_type": "code",
   "execution_count": 12,
   "id": "ccd5f6e8-4d5c-4d8d-b167-6493e0262c54",
   "metadata": {},
   "outputs": [],
   "source": [
    "options = set()\n",
    "for reason in reasons:\n",
    "    for option in reason.split(';'):\n",
    "        if option not in options:\n",
    "            options.add(option)"
   ]
  },
  {
   "cell_type": "code",
   "execution_count": 14,
   "id": "0cb38842-fc70-479e-9849-d7657bd30f6a",
   "metadata": {},
   "outputs": [
    {
     "data": {
      "text/plain": [
       "{'Lòt',\n",
       " 'Paske mwen pa renmen gou klò a',\n",
       " 'Paske pitit mwen yo ap vin malad',\n",
       " 'Paske pwodwi a pi bon mache pase sa mwen konn itilize',\n",
       " 'kisa_acht_a_espere_kap_rive_l_li_achte_p'}"
      ]
     },
     "execution_count": 14,
     "metadata": {},
     "output_type": "execute_result"
    }
   ],
   "source": [
    "options"
   ]
  },
  {
   "cell_type": "markdown",
   "id": "08efb663-cdcc-4d82-87fc-4d7517e6fb94",
   "metadata": {},
   "source": [
    "\"Lòt\" means \"Other\"\n",
    "\n",
    "\"Paske mwen pa renmen gou klò a\" means \"Because I don't like the taste of chlorine\"\n",
    "\n",
    "\"Paske pitit mwen yo ap vin malad\" means \"Because my children are getting sick\"\n",
    "\n",
    "\"Paske pwodwi a pi bon mache pase sa mwen konn itilize\" means \"Because the product is cheaper than I used to\"\n",
    "\n",
    "\"kisa_acht_a_espere_kap_rive_l_li_achte_p\" is just a secondary column title"
   ]
  },
  {
   "cell_type": "code",
   "execution_count": null,
   "id": "f7f935a0-3e9a-4574-936b-60ea33e785ed",
   "metadata": {},
   "outputs": [],
   "source": []
  }
 ],
 "metadata": {
  "kernelspec": {
   "display_name": "Python 3 (ipykernel)",
   "language": "python",
   "name": "python3"
  },
  "language_info": {
   "codemirror_mode": {
    "name": "ipython",
    "version": 3
   },
   "file_extension": ".py",
   "mimetype": "text/x-python",
   "name": "python",
   "nbconvert_exporter": "python",
   "pygments_lexer": "ipython3",
   "version": "3.8.12"
  }
 },
 "nbformat": 4,
 "nbformat_minor": 5
}
