{
 "cells": [
  {
   "cell_type": "markdown",
   "id": "118b560e-2550-4eab-91ed-403e975f7363",
   "metadata": {},
   "source": [
    "# Notebook I: Cleaning and EDA #"
   ]
  },
  {
   "cell_type": "code",
   "execution_count": 1,
   "id": "fb18f95d-b622-4633-8b98-ea0e2bf58ac9",
   "metadata": {},
   "outputs": [],
   "source": [
    "import pandas as pd"
   ]
  },
  {
   "cell_type": "markdown",
   "id": "e11b5bb0-5216-4af6-83fc-830d1ea28eda",
   "metadata": {},
   "source": [
    "##### In this notebook, I will be cleaning the data and performing exploratory analysis to better understand what information our app needs to incorporate and how it informs the design of the app. #####"
   ]
  },
  {
   "cell_type": "code",
   "execution_count": 2,
   "id": "f7a2aa36-d3ea-4cad-88eb-941b52210528",
   "metadata": {},
   "outputs": [],
   "source": [
    "sales = pd.read_csv('Trans_TWSupport Sale w. Cash Discount (v15)_1_935.csv')"
   ]
  },
  {
   "cell_type": "code",
   "execution_count": 3,
   "id": "3a55c175-f773-4929-be6f-cad9da6ce837",
   "metadata": {},
   "outputs": [
    {
     "data": {
      "text/html": [
       "<div>\n",
       "<style scoped>\n",
       "    .dataframe tbody tr th:only-of-type {\n",
       "        vertical-align: middle;\n",
       "    }\n",
       "\n",
       "    .dataframe tbody tr th {\n",
       "        vertical-align: top;\n",
       "    }\n",
       "\n",
       "    .dataframe thead th {\n",
       "        text-align: right;\n",
       "    }\n",
       "</style>\n",
       "<table border=\"1\" class=\"dataframe\">\n",
       "  <thead>\n",
       "    <tr style=\"text-align: right;\">\n",
       "      <th></th>\n",
       "      <th>startDate</th>\n",
       "      <th>endDate</th>\n",
       "      <th>Date</th>\n",
       "      <th>gps x</th>\n",
       "      <th>gps y</th>\n",
       "      <th>Mobile User</th>\n",
       "      <th>Non achtè / Buyer's First Name</th>\n",
       "      <th>Siyati achtè a / Buyer's Last Name</th>\n",
       "      <th>Telefon Natcom achtè a / Buyer's Natcom Phone Number</th>\n",
       "      <th>Buyer's Digicel Phone Number / Buyer's Digicel Phone Number</th>\n",
       "      <th>...</th>\n",
       "      <th>Kontra Foto</th>\n",
       "      <th>Nimewo Kontra</th>\n",
       "      <th>Kod pwodwi a</th>\n",
       "      <th>Rabè Lajan Kach / Cash Discount</th>\n",
       "      <th>Èske ou pral peye an plen kounye a? / Are you going to pay in full now?</th>\n",
       "      <th>Loan Name</th>\n",
       "      <th>Kantite lajan Depo Espere / Deposit Amount Expected</th>\n",
       "      <th>montan depoze / Deposit Amount</th>\n",
       "      <th>Peman espere / Payment Expected</th>\n",
       "      <th>Kantite lajan Peman Lajan Kach / Cash Payment Amount</th>\n",
       "    </tr>\n",
       "  </thead>\n",
       "  <tbody>\n",
       "    <tr>\n",
       "      <th>0</th>\n",
       "      <td>startDate</td>\n",
       "      <td>endDate</td>\n",
       "      <td>Date</td>\n",
       "      <td>gps x</td>\n",
       "      <td>gps y</td>\n",
       "      <td>Mobile User</td>\n",
       "      <td>non_acht</td>\n",
       "      <td>siyati_acht_a</td>\n",
       "      <td>telefon_natcom_acht_a</td>\n",
       "      <td>buyers_natcom_phone_number_buyers_digice</td>\n",
       "      <td>...</td>\n",
       "      <td>kontra_foto</td>\n",
       "      <td>nimewo_nontra_1</td>\n",
       "      <td>kod_pwodwi_a</td>\n",
       "      <td>cash_discount_1</td>\n",
       "      <td>are_you_going_to_pay_in_full_now</td>\n",
       "      <td>loan_name</td>\n",
       "      <td>deposit_amount_expected</td>\n",
       "      <td>montan_depoze_deposit_amount</td>\n",
       "      <td>payment_expected</td>\n",
       "      <td>cash_payment_amount</td>\n",
       "    </tr>\n",
       "    <tr>\n",
       "      <th>1</th>\n",
       "      <td>2022-01-12 11:06:28-0600</td>\n",
       "      <td>2022-01-12 11:06:45-0600</td>\n",
       "      <td>2022-01-12</td>\n",
       "      <td>NaN</td>\n",
       "      <td>NaN</td>\n",
       "      <td>UC TaroWorks Admin</td>\n",
       "      <td>S</td>\n",
       "      <td>S</td>\n",
       "      <td>NaN</td>\n",
       "      <td>NaN</td>\n",
       "      <td>...</td>\n",
       "      <td>NaN</td>\n",
       "      <td>NaN</td>\n",
       "      <td>NaN</td>\n",
       "      <td>Si ou peye an plen lajan kach, ou pral resevwa...</td>\n",
       "      <td>Wi / Yes</td>\n",
       "      <td>S - Antreprenè Sistèm Filtraj ak Pye / Entrepr...</td>\n",
       "      <td>NaN</td>\n",
       "      <td>NaN</td>\n",
       "      <td>2900.0</td>\n",
       "      <td>2900.0</td>\n",
       "    </tr>\n",
       "    <tr>\n",
       "      <th>2</th>\n",
       "      <td>2022-01-12 11:08:42-0600</td>\n",
       "      <td>2022-01-12 11:10:28-0600</td>\n",
       "      <td>2022-01-12</td>\n",
       "      <td>NaN</td>\n",
       "      <td>NaN</td>\n",
       "      <td>Fenson Cherenfant</td>\n",
       "      <td>Markenson</td>\n",
       "      <td>Toussaint</td>\n",
       "      <td>40573348</td>\n",
       "      <td>NaN</td>\n",
       "      <td>...</td>\n",
       "      <td>https://unlockingcommunities.my.salesforce.com...</td>\n",
       "      <td>01627</td>\n",
       "      <td>6473</td>\n",
       "      <td>Si ou peye an plen lajan kach, ou pral resevwa...</td>\n",
       "      <td>Wi / Yes</td>\n",
       "      <td>Toussaint  - Antreprenè Sistèm Filtraj ak Pye ...</td>\n",
       "      <td>NaN</td>\n",
       "      <td>NaN</td>\n",
       "      <td>2900.0</td>\n",
       "      <td>2900.0</td>\n",
       "    </tr>\n",
       "    <tr>\n",
       "      <th>3</th>\n",
       "      <td>2022-01-12 11:15:31-0600</td>\n",
       "      <td>2022-01-12 11:17:01-0600</td>\n",
       "      <td>2022-01-12</td>\n",
       "      <td>NaN</td>\n",
       "      <td>NaN</td>\n",
       "      <td>Fenson Cherenfant</td>\n",
       "      <td>Ghislaine</td>\n",
       "      <td>Myrthil</td>\n",
       "      <td>43564343</td>\n",
       "      <td>NaN</td>\n",
       "      <td>...</td>\n",
       "      <td>https://unlockingcommunities.my.salesforce.com...</td>\n",
       "      <td>01625</td>\n",
       "      <td>6427</td>\n",
       "      <td>Si ou peye an plen lajan kach, ou pral resevwa...</td>\n",
       "      <td>Wi / Yes</td>\n",
       "      <td>Myrthil - Antreprenè Sistèm Filtraj ak Pye / E...</td>\n",
       "      <td>NaN</td>\n",
       "      <td>NaN</td>\n",
       "      <td>2900.0</td>\n",
       "      <td>2900.0</td>\n",
       "    </tr>\n",
       "    <tr>\n",
       "      <th>4</th>\n",
       "      <td>2022-01-12 11:17:45-0600</td>\n",
       "      <td>2022-01-12 11:19:08-0600</td>\n",
       "      <td>2022-01-12</td>\n",
       "      <td>NaN</td>\n",
       "      <td>NaN</td>\n",
       "      <td>Fenson Cherenfant</td>\n",
       "      <td>Nastal</td>\n",
       "      <td>Gabriel</td>\n",
       "      <td>35235271</td>\n",
       "      <td>NaN</td>\n",
       "      <td>...</td>\n",
       "      <td>https://unlockingcommunities.my.salesforce.com...</td>\n",
       "      <td>01626</td>\n",
       "      <td>6426</td>\n",
       "      <td>Si ou peye an plen lajan kach, ou pral resevwa...</td>\n",
       "      <td>Wi / Yes</td>\n",
       "      <td>Gabriel - Antreprenè Sistèm Filtraj ak Pye / E...</td>\n",
       "      <td>NaN</td>\n",
       "      <td>NaN</td>\n",
       "      <td>2900.0</td>\n",
       "      <td>2900.0</td>\n",
       "    </tr>\n",
       "  </tbody>\n",
       "</table>\n",
       "<p>5 rows × 44 columns</p>\n",
       "</div>"
      ],
      "text/plain": [
       "                  startDate                   endDate        Date  gps x  \\\n",
       "0                 startDate                   endDate        Date  gps x   \n",
       "1  2022-01-12 11:06:28-0600  2022-01-12 11:06:45-0600  2022-01-12    NaN   \n",
       "2  2022-01-12 11:08:42-0600  2022-01-12 11:10:28-0600  2022-01-12    NaN   \n",
       "3  2022-01-12 11:15:31-0600  2022-01-12 11:17:01-0600  2022-01-12    NaN   \n",
       "4  2022-01-12 11:17:45-0600  2022-01-12 11:19:08-0600  2022-01-12    NaN   \n",
       "\n",
       "   gps y         Mobile User Non achtè / Buyer's First Name  \\\n",
       "0  gps y         Mobile User                       non_acht   \n",
       "1    NaN  UC TaroWorks Admin                              S   \n",
       "2    NaN   Fenson Cherenfant                      Markenson   \n",
       "3    NaN   Fenson Cherenfant                      Ghislaine   \n",
       "4    NaN   Fenson Cherenfant                         Nastal   \n",
       "\n",
       "  Siyati achtè a / Buyer's Last Name  \\\n",
       "0                      siyati_acht_a   \n",
       "1                                  S   \n",
       "2                          Toussaint   \n",
       "3                            Myrthil   \n",
       "4                            Gabriel   \n",
       "\n",
       "  Telefon Natcom achtè a / Buyer's Natcom Phone Number  \\\n",
       "0                              telefon_natcom_acht_a     \n",
       "1                                                NaN     \n",
       "2                                           40573348     \n",
       "3                                           43564343     \n",
       "4                                           35235271     \n",
       "\n",
       "  Buyer's Digicel Phone Number / Buyer's Digicel Phone Number  ...  \\\n",
       "0           buyers_natcom_phone_number_buyers_digice           ...   \n",
       "1                                                NaN           ...   \n",
       "2                                                NaN           ...   \n",
       "3                                                NaN           ...   \n",
       "4                                                NaN           ...   \n",
       "\n",
       "                                         Kontra Foto    Nimewo Kontra  \\\n",
       "0                                        kontra_foto  nimewo_nontra_1   \n",
       "1                                                NaN              NaN   \n",
       "2  https://unlockingcommunities.my.salesforce.com...            01627   \n",
       "3  https://unlockingcommunities.my.salesforce.com...            01625   \n",
       "4  https://unlockingcommunities.my.salesforce.com...            01626   \n",
       "\n",
       "   Kod pwodwi a                    Rabè Lajan Kach / Cash Discount  \\\n",
       "0  kod_pwodwi_a                                    cash_discount_1   \n",
       "1           NaN  Si ou peye an plen lajan kach, ou pral resevwa...   \n",
       "2          6473  Si ou peye an plen lajan kach, ou pral resevwa...   \n",
       "3          6427  Si ou peye an plen lajan kach, ou pral resevwa...   \n",
       "4          6426  Si ou peye an plen lajan kach, ou pral resevwa...   \n",
       "\n",
       "  Èske ou pral peye an plen kounye a? / Are you going to pay in full now?  \\\n",
       "0                   are_you_going_to_pay_in_full_now                        \n",
       "1                                           Wi / Yes                        \n",
       "2                                           Wi / Yes                        \n",
       "3                                           Wi / Yes                        \n",
       "4                                           Wi / Yes                        \n",
       "\n",
       "                                           Loan Name  \\\n",
       "0                                          loan_name   \n",
       "1  S - Antreprenè Sistèm Filtraj ak Pye / Entrepr...   \n",
       "2  Toussaint  - Antreprenè Sistèm Filtraj ak Pye ...   \n",
       "3  Myrthil - Antreprenè Sistèm Filtraj ak Pye / E...   \n",
       "4  Gabriel - Antreprenè Sistèm Filtraj ak Pye / E...   \n",
       "\n",
       "  Kantite lajan Depo Espere / Deposit Amount Expected  \\\n",
       "0                            deposit_amount_expected    \n",
       "1                                                NaN    \n",
       "2                                                NaN    \n",
       "3                                                NaN    \n",
       "4                                                NaN    \n",
       "\n",
       "  montan depoze / Deposit Amount Peman espere / Payment Expected  \\\n",
       "0   montan_depoze_deposit_amount                payment_expected   \n",
       "1                            NaN                          2900.0   \n",
       "2                            NaN                          2900.0   \n",
       "3                            NaN                          2900.0   \n",
       "4                            NaN                          2900.0   \n",
       "\n",
       "  Kantite lajan Peman Lajan Kach / Cash Payment Amount  \n",
       "0                                cash_payment_amount    \n",
       "1                                             2900.0    \n",
       "2                                             2900.0    \n",
       "3                                             2900.0    \n",
       "4                                             2900.0    \n",
       "\n",
       "[5 rows x 44 columns]"
      ]
     },
     "execution_count": 3,
     "metadata": {},
     "output_type": "execute_result"
    }
   ],
   "source": [
    "sales.head()"
   ]
  },
  {
   "cell_type": "markdown",
   "id": "c92269ce-469f-4088-b0f8-d95a2eb4e7fd",
   "metadata": {},
   "source": [
    "The first row is a secondary column header, so it will be dropped."
   ]
  },
  {
   "cell_type": "code",
   "execution_count": 4,
   "id": "f4c3ac91-4dea-4201-bf08-d4beac62a29d",
   "metadata": {},
   "outputs": [],
   "source": [
    "sales.drop(0, inplace=True)"
   ]
  },
  {
   "cell_type": "code",
   "execution_count": 5,
   "id": "dcef9fbd-9637-43be-be6f-36de0078bf47",
   "metadata": {},
   "outputs": [
    {
     "name": "stdout",
     "output_type": "stream",
     "text": [
      "<class 'pandas.core.frame.DataFrame'>\n",
      "Int64Index: 935 entries, 1 to 935\n",
      "Data columns (total 44 columns):\n",
      " #   Column                                                                           Non-Null Count  Dtype \n",
      "---  ------                                                                           --------------  ----- \n",
      " 0   startDate                                                                        935 non-null    object\n",
      " 1   endDate                                                                          935 non-null    object\n",
      " 2   Date                                                                             935 non-null    object\n",
      " 3   gps x                                                                            0 non-null      object\n",
      " 4   gps y                                                                            0 non-null      object\n",
      " 5   Mobile User                                                                      935 non-null    object\n",
      " 6   Non achtè / Buyer's First Name                                                   935 non-null    object\n",
      " 7   Siyati achtè a / Buyer's Last Name                                               935 non-null    object\n",
      " 8   Telefon Natcom achtè a / Buyer's Natcom Phone Number                             615 non-null    object\n",
      " 9   Buyer's Digicel Phone Number / Buyer's Digicel Phone Number                      168 non-null    object\n",
      " 10  Konbyen moun ki abite lakay achtè a / How many people live in the buyers house?  935 non-null    object\n",
      " 11  Poukisa w’ap achte filtè sa a? / Why are you buying the product?                 935 non-null    object\n",
      " 12  Location ID                                                                      935 non-null    object\n",
      " 13  Source Warehouse ID                                                              935 non-null    object\n",
      " 14  Pricebook ID                                                                     935 non-null    object\n",
      " 15  Product ID                                                                       935 non-null    object\n",
      " 16  Product Name                                                                     935 non-null    object\n",
      " 17  Quantity                                                                         935 non-null    object\n",
      " 18  Unit price                                                                       935 non-null    object\n",
      " 19  Last Qty Delivered                                                               935 non-null    object\n",
      " 20  Order Type                                                                       935 non-null    object\n",
      " 21  Currency                                                                         935 non-null    object\n",
      " 22  Dat Vann / Date of Sale                                                          935 non-null    object\n",
      " 23  Expected Delivery Date                                                           935 non-null    object\n",
      " 24  Direct Order                                                                     935 non-null    object\n",
      " 25  Status                                                                           935 non-null    object\n",
      " 26  Entrepreneur ID                                                                  935 non-null    object\n",
      " 27  Business ID                                                                      935 non-null    object\n",
      " 28  Buyer Record Type                                                                935 non-null    object\n",
      " 29  Expected Deposit Amount                                                          935 non-null    object\n",
      " 30  Pri pwodwi / Product Price                                                       935 non-null    object\n",
      " 31  Kantite lajan rabè lajan kach / Cash Discount Amount                             935 non-null    object\n",
      " 32  Pri total pwodwi / Total Product Price                                           935 non-null    object\n",
      " 33  Pri Lajan Kach Total / Total Cash Discount Price                                 935 non-null    object\n",
      " 34  Kontra Foto                                                                      915 non-null    object\n",
      " 35  Nimewo Kontra                                                                    879 non-null    object\n",
      " 36  Kod pwodwi a                                                                     642 non-null    object\n",
      " 37  Rabè Lajan Kach / Cash Discount                                                  935 non-null    object\n",
      " 38  Èske ou pral peye an plen kounye a? / Are you going to pay in full now?          935 non-null    object\n",
      " 39  Loan Name                                                                        935 non-null    object\n",
      " 40  Kantite lajan Depo Espere / Deposit Amount Expected                              205 non-null    object\n",
      " 41  montan depoze / Deposit Amount                                                   205 non-null    object\n",
      " 42  Peman espere / Payment Expected                                                  730 non-null    object\n",
      " 43  Kantite lajan Peman Lajan Kach / Cash Payment Amount                             730 non-null    object\n",
      "dtypes: object(44)\n",
      "memory usage: 328.7+ KB\n"
     ]
    }
   ],
   "source": [
    "sales.info()"
   ]
  },
  {
   "cell_type": "markdown",
   "id": "64a8c4bb-3787-41ed-bd35-ffabb551780c",
   "metadata": {},
   "source": [
    "startDate, endDate, and Date seem rather repetitive.  The duration always seems to be a few minutes.\n",
    "\n",
    "There is also a \"Date of Sale\" field, which I will compare with the Date field to see if they're different:"
   ]
  },
  {
   "cell_type": "code",
   "execution_count": 6,
   "id": "ee44e32d-670b-4540-801d-4a1f8870dcea",
   "metadata": {},
   "outputs": [
    {
     "name": "stdout",
     "output_type": "stream",
     "text": [
      "('2022-01-12', '2022-01-12')\n",
      "('2022-01-12', '2022-01-08')\n",
      "('2022-01-12', '2022-01-08')\n",
      "('2022-01-12', '2022-01-08')\n",
      "('2022-01-12', '2022-01-08')\n"
     ]
    }
   ],
   "source": [
    "for times in list(zip(sales['Date'], sales['Dat Vann / Date of Sale']))[:5]:\n",
    "    print(times)"
   ]
  },
  {
   "cell_type": "markdown",
   "id": "0b99e06a-2302-4a57-a10c-fda13750d5a1",
   "metadata": {},
   "source": [
    "There are clearly differences between \"Date\" and \"Date of Sale.\"  I don't know for sure why, but I suspect \"Date,\" \"startDate,\" and \"endDate\" all apply to when the entry was recorded in the app.  For the purpose of identifyng patterns, \"Sale Date\" should be more useful.\n",
    "\n",
    "gps x and gps y are always Null and will also be dropped."
   ]
  },
  {
   "cell_type": "code",
   "execution_count": 7,
   "id": "dc154fad-9bcd-464a-803b-60c1a6643fbc",
   "metadata": {},
   "outputs": [],
   "source": [
    "sales.drop(['gps x', 'gps y', 'startDate', 'endDate', 'Date'], axis=1, inplace=True)"
   ]
  },
  {
   "cell_type": "markdown",
   "id": "311694a7-8d37-4b62-bc17-129fdbbab0f1",
   "metadata": {},
   "source": [
    "Now convert Sale Date to datetime format and rename it.\n",
    "\n",
    "I'm also converting \"Expected Delivery Date\" while I'm at it."
   ]
  },
  {
   "cell_type": "code",
   "execution_count": 8,
   "id": "bc04195a-27be-4d34-933f-78404fcfec8c",
   "metadata": {},
   "outputs": [],
   "source": [
    "sales['sale_date'] = pd.to_datetime(sales['Dat Vann / Date of Sale'])\n",
    "sales['exp_delivery_date'] = pd.to_datetime(sales['Expected Delivery Date'])\n",
    "sales.drop(['Dat Vann / Date of Sale', 'Expected Delivery Date'], axis=1, inplace=True)"
   ]
  },
  {
   "cell_type": "markdown",
   "id": "2a6bd64f-d69c-4804-aefc-5ab858b0f098",
   "metadata": {},
   "source": [
    "In \"Why are you purchasing the product?\" it's common for more than one reason to be given.  It will be best to One Hot encode this."
   ]
  },
  {
   "cell_type": "code",
   "execution_count": 9,
   "id": "d043b851-2ca1-4082-8932-842a7a576409",
   "metadata": {},
   "outputs": [],
   "source": [
    "reasons = sales['Poukisa w’ap achte filtè sa a? / Why are you buying the product?']"
   ]
  },
  {
   "cell_type": "code",
   "execution_count": 10,
   "id": "03056ed9-05c9-4038-aed6-5d4301815123",
   "metadata": {},
   "outputs": [],
   "source": [
    "options = set()\n",
    "for reason in reasons:\n",
    "    for option in reason.split(';'):\n",
    "        if option not in options:\n",
    "            options.add(option)"
   ]
  },
  {
   "cell_type": "code",
   "execution_count": 11,
   "id": "e22aff56-ec52-4407-ba82-c750fe516995",
   "metadata": {},
   "outputs": [
    {
     "data": {
      "text/plain": [
       "{'Lòt',\n",
       " 'Paske mwen pa renmen gou klò a',\n",
       " 'Paske pitit mwen yo ap vin malad',\n",
       " 'Paske pwodwi a pi bon mache pase sa mwen konn itilize'}"
      ]
     },
     "execution_count": 11,
     "metadata": {},
     "output_type": "execute_result"
    }
   ],
   "source": [
    "options"
   ]
  },
  {
   "cell_type": "markdown",
   "id": "acc08e14-3e8a-4350-a6fa-e072502a9e67",
   "metadata": {},
   "source": [
    "\"Lòt\" means \"Other\"\n",
    "\n",
    "\"Paske mwen pa renmen gou klò a\" means \"Because I don't like the taste of chlorine\"\n",
    "\n",
    "\"Paske pitit mwen yo ap vin malad\" means \"Because my children are getting sick\"\n",
    "\n",
    "\"Paske pwodwi a pi bon mache pase sa mwen konn itilize\" means \"Because the product is cheaper than I used to\"\n",
    "\n",
    "\"kisa_acht_a_espere_kap_rive_l_li_achte_p\" is just a secondary column title"
   ]
  },
  {
   "cell_type": "code",
   "execution_count": 12,
   "id": "3e1e116c-9ad6-4320-b0a3-d7597adea632",
   "metadata": {},
   "outputs": [],
   "source": [
    "other = []\n",
    "chlorine = []\n",
    "sick = []\n",
    "cheaper = []\n",
    "\n",
    "for reason in reasons:\n",
    "    if 'Lòt' in reason.split(';'):\n",
    "        other.append(1)\n",
    "    else:\n",
    "        other.append(0)\n",
    "    if 'Paske mwen pa renmen gou klò a' in reason.split(';'):\n",
    "        chlorine.append(1)\n",
    "    else:\n",
    "        chlorine.append(0)\n",
    "    if 'Paske pitit mwen yo ap vin malad' in reason.split(';'):\n",
    "        sick.append(1)\n",
    "    else:\n",
    "        sick.append(0)\n",
    "    if 'Paske pwodwi a pi bon mache pase sa mwen konn itilize' in reason.split(';'):\n",
    "        cheaper.append(1)\n",
    "    else:\n",
    "        cheaper.append(0)\n",
    "\n",
    "sales['reason_other'] = other\n",
    "sales['reason_chlorine'] = chlorine\n",
    "sales['reason_sick'] = sick\n",
    "sales['reason_cheaper'] = cheaper\n",
    "\n",
    "sales.drop(['Poukisa w’ap achte filtè sa a? / Why are you buying the product?'], axis=1, inplace=True)"
   ]
  },
  {
   "cell_type": "markdown",
   "id": "9049523a-c8aa-4505-bd36-966e6d9c852d",
   "metadata": {},
   "source": [
    "Other columns that don't seem useful for EDA:\n",
    "\n",
    "- Mobile User\n",
    "- Location ID (always the same - see below)\n",
    "- Order Type (always the same)\n",
    "- Currency (always the same)\n",
    "- Direct Order (always the same)\n",
    "- Status (always the same)\n",
    "- Buyer Record Type (always the same)\n",
    "- Kontra Foto (seems to mean contract photo, which is currently a URL I can't access)\n",
    "- Nimewo Kontra (contract number, not useful in this analysis)\n",
    "- Unit price (always 0)"
   ]
  },
  {
   "cell_type": "code",
   "execution_count": 13,
   "id": "2fe6dbc0-7a98-4e5c-ac83-63b7e6411900",
   "metadata": {},
   "outputs": [
    {
     "data": {
      "text/plain": [
       "LOC-0002    935\n",
       "Name: Location ID, dtype: int64"
      ]
     },
     "execution_count": 13,
     "metadata": {},
     "output_type": "execute_result"
    }
   ],
   "source": [
    "sales['Location ID'].value_counts()"
   ]
  },
  {
   "cell_type": "markdown",
   "id": "3985dd12-1d61-4327-8406-034e5510579c",
   "metadata": {},
   "source": [
    "Dropping the columns listed above:"
   ]
  },
  {
   "cell_type": "code",
   "execution_count": 14,
   "id": "26fc873e-abb8-4b49-9df2-017e759000a9",
   "metadata": {},
   "outputs": [
    {
     "data": {
      "text/plain": [
       "Sales Order    935\n",
       "Name: Order Type, dtype: int64"
      ]
     },
     "execution_count": 14,
     "metadata": {},
     "output_type": "execute_result"
    }
   ],
   "source": [
    "sales['Order Type'].value_counts()"
   ]
  },
  {
   "cell_type": "code",
   "execution_count": 15,
   "id": "ca3d7d99-d141-4948-9e31-6c5089a8767e",
   "metadata": {},
   "outputs": [
    {
     "data": {
      "text/plain": [
       "HTG    935\n",
       "Name: Currency, dtype: int64"
      ]
     },
     "execution_count": 15,
     "metadata": {},
     "output_type": "execute_result"
    }
   ],
   "source": [
    "sales['Currency'].value_counts()"
   ]
  },
  {
   "cell_type": "code",
   "execution_count": 16,
   "id": "22ba2c42-31b4-4634-87a7-c03185bddfb2",
   "metadata": {},
   "outputs": [
    {
     "data": {
      "text/plain": [
       "Yes    935\n",
       "Name: Direct Order, dtype: int64"
      ]
     },
     "execution_count": 16,
     "metadata": {},
     "output_type": "execute_result"
    }
   ],
   "source": [
    "sales['Direct Order'].value_counts()"
   ]
  },
  {
   "cell_type": "code",
   "execution_count": 17,
   "id": "c4fd8d31-34fb-4858-893b-a7a02307b94b",
   "metadata": {},
   "outputs": [
    {
     "data": {
      "text/plain": [
       "Completed    935\n",
       "Name: Status, dtype: int64"
      ]
     },
     "execution_count": 17,
     "metadata": {},
     "output_type": "execute_result"
    }
   ],
   "source": [
    "sales['Status'].value_counts()"
   ]
  },
  {
   "cell_type": "code",
   "execution_count": 18,
   "id": "e12eb8ba-5093-400f-b401-c83f0213e7cb",
   "metadata": {},
   "outputs": [
    {
     "data": {
      "text/plain": [
       "Product Owner and In-Country Contact    935\n",
       "Name: Buyer Record Type, dtype: int64"
      ]
     },
     "execution_count": 18,
     "metadata": {},
     "output_type": "execute_result"
    }
   ],
   "source": [
    "sales['Buyer Record Type'].value_counts()"
   ]
  },
  {
   "cell_type": "code",
   "execution_count": 19,
   "id": "873aa8d6-41c8-43e4-9b19-8da49df7c3cf",
   "metadata": {},
   "outputs": [
    {
     "data": {
      "text/plain": [
       "0    935\n",
       "Name: Unit price, dtype: int64"
      ]
     },
     "execution_count": 19,
     "metadata": {},
     "output_type": "execute_result"
    }
   ],
   "source": [
    "sales['Unit price'].value_counts()"
   ]
  },
  {
   "cell_type": "code",
   "execution_count": 20,
   "id": "a33a24c5-6951-464d-98b4-373ce508fffd",
   "metadata": {},
   "outputs": [],
   "source": [
    "sales.drop(['Mobile User', 'Location ID', 'Order Type', 'Currency', 'Direct Order', 'Status',\n",
    "           'Buyer Record Type', 'Kontra Foto', 'Nimewo Kontra', 'Unit price'], axis=1, inplace=True)"
   ]
  },
  {
   "cell_type": "markdown",
   "id": "0786cfc1-9eed-4ebe-8816-bce34e3c3baf",
   "metadata": {},
   "source": [
    "The following columns remain in the data frame:"
   ]
  },
  {
   "cell_type": "code",
   "execution_count": 21,
   "id": "2fc17c26-d1d9-45f6-a90b-140cb9785e72",
   "metadata": {},
   "outputs": [
    {
     "data": {
      "text/plain": [
       "Index(['Non achtè / Buyer's First Name', 'Siyati achtè a / Buyer's Last Name',\n",
       "       'Telefon Natcom achtè a / Buyer's Natcom Phone Number',\n",
       "       'Buyer's Digicel Phone Number / Buyer's Digicel Phone Number',\n",
       "       'Konbyen moun ki abite lakay achtè a / How many people live in the buyers house?',\n",
       "       'Source Warehouse ID', 'Pricebook ID', 'Product ID', 'Product Name',\n",
       "       'Quantity', 'Last Qty Delivered', 'Entrepreneur ID', 'Business ID',\n",
       "       'Expected Deposit Amount', 'Pri pwodwi / Product Price',\n",
       "       'Kantite lajan rabè lajan kach / Cash Discount Amount',\n",
       "       'Pri total pwodwi / Total Product Price',\n",
       "       'Pri Lajan Kach Total / Total Cash Discount Price', 'Kod pwodwi a',\n",
       "       'Rabè Lajan Kach / Cash Discount',\n",
       "       'Èske ou pral peye an plen kounye a? / Are you going to pay in full now?',\n",
       "       'Loan Name', 'Kantite lajan Depo Espere / Deposit Amount Expected',\n",
       "       'montan depoze / Deposit Amount', 'Peman espere / Payment Expected',\n",
       "       'Kantite lajan Peman Lajan Kach / Cash Payment Amount', 'sale_date',\n",
       "       'exp_delivery_date', 'reason_other', 'reason_chlorine', 'reason_sick',\n",
       "       'reason_cheaper'],\n",
       "      dtype='object')"
      ]
     },
     "execution_count": 21,
     "metadata": {},
     "output_type": "execute_result"
    }
   ],
   "source": [
    "sales.columns"
   ]
  },
  {
   "cell_type": "markdown",
   "id": "1120574a-d39b-436a-b1da-20571df0bac7",
   "metadata": {},
   "source": [
    "Renaming the remaining columns:"
   ]
  },
  {
   "cell_type": "code",
   "execution_count": 22,
   "id": "ea4ab720-e51b-4b69-adb5-8fd0df8f0e45",
   "metadata": {},
   "outputs": [],
   "source": [
    "col_names = {\n",
    "    \"Non achtè / Buyer's First Name\" : \"buyer_name_first\",\n",
    "    \"Siyati achtè a / Buyer's Last Name\" : \"buyer_name_last\",\n",
    "    \"Telefon Natcom achtè a / Buyer's Natcom Phone Number\" : \"buyer_natcom_phone\",\n",
    "    \"Buyer's Digicel Phone Number / Buyer's Digicel Phone Number\" : \"buyer_digicel_phone\",\n",
    "    \"Konbyen moun ki abite lakay achtè a / How many people live in the buyers house?\" : \"household_size\",\n",
    "    \"Source Warehouse ID\" : \"warehouse_id\",\n",
    "    \"Pricebook ID\" : \"pricebook_id\",\n",
    "    \"Product ID\" : \"product_id\",\n",
    "    \"Product Name\" : \"product_name\",\n",
    "    \"Quantity\" : \"quantity\",\n",
    "    \"Last Qty Delivered\" : \"last_qty_delivered\",\n",
    "    \"Entrepreneur ID\" : \"id_entrepreneur\",\n",
    "    \"Business ID\" : \"id_business\",\n",
    "    \"Expected Deposit Amount\" : \"deposit_expected\",\n",
    "    \"Pri pwodwi / Product Price\" : \"price_product\",\n",
    "    \"Kantite lajan rabè lajan kach / Cash Discount Amount\" : \"cash_discount_amount\",\n",
    "    \"Pri total pwodwi / Total Product Price\" : \"price_product_total\",\n",
    "    \"Pri Lajan Kach Total / Total Cash Discount Price\" : \"price_cash_discount_total\",\n",
    "    \"Kod pwodwi a\" : \"product_code\",\n",
    "    \"Rabè Lajan Kach / Cash Discount\" : 'cash_discount_description',\n",
    "    \"Èske ou pral peye an plen kounye a? / Are you going to pay in full now?\" : \"full_pay\",\n",
    "    \"Loan Name\" : \"loan_name\",\n",
    "    \"Kantite lajan Depo Espere / Deposit Amount Expected\" : \"deposit_expected_2\",\n",
    "    \"montan depoze / Deposit Amount\" : \"deposit_amount\",\n",
    "    \"Peman espere / Payment Expected\" : \"expected_payment\",\n",
    "    \"Kantite lajan Peman Lajan Kach / Cash Payment Amount\" : \"cash_payment_amount\"\n",
    "}\n",
    "\n",
    "sales.rename(col_names, axis=1, inplace=True)"
   ]
  },
  {
   "cell_type": "code",
   "execution_count": 23,
   "id": "9a1657aa-edeb-4120-94a1-5d4e958611ec",
   "metadata": {},
   "outputs": [
    {
     "data": {
      "text/plain": [
       "Index(['buyer_name_first', 'buyer_name_last', 'buyer_natcom_phone',\n",
       "       'buyer_digicel_phone', 'household_size', 'warehouse_id', 'pricebook_id',\n",
       "       'product_id', 'product_name', 'quantity', 'last_qty_delivered',\n",
       "       'id_entrepreneur', 'id_business', 'deposit_expected', 'price_product',\n",
       "       'cash_discount_amount', 'price_product_total',\n",
       "       'price_cash_discount_total', 'product_code',\n",
       "       'cash_discount_description', 'full_pay', 'loan_name',\n",
       "       'deposit_expected_2', 'deposit_amount', 'expected_payment',\n",
       "       'cash_payment_amount', 'sale_date', 'exp_delivery_date', 'reason_other',\n",
       "       'reason_chlorine', 'reason_sick', 'reason_cheaper'],\n",
       "      dtype='object')"
      ]
     },
     "execution_count": 23,
     "metadata": {},
     "output_type": "execute_result"
    }
   ],
   "source": [
    "sales.columns"
   ]
  },
  {
   "cell_type": "markdown",
   "id": "f5f1ffe1-8a4c-47dc-8918-5208f11ea42e",
   "metadata": {},
   "source": [
    "Some of these feature names seem to be redundant, so I'm investigating them further."
   ]
  },
  {
   "cell_type": "code",
   "execution_count": 24,
   "id": "d6c6c187-f6f3-449d-89f6-977affee96a2",
   "metadata": {},
   "outputs": [
    {
     "data": {
      "text/html": [
       "<div>\n",
       "<style scoped>\n",
       "    .dataframe tbody tr th:only-of-type {\n",
       "        vertical-align: middle;\n",
       "    }\n",
       "\n",
       "    .dataframe tbody tr th {\n",
       "        vertical-align: top;\n",
       "    }\n",
       "\n",
       "    .dataframe thead th {\n",
       "        text-align: right;\n",
       "    }\n",
       "</style>\n",
       "<table border=\"1\" class=\"dataframe\">\n",
       "  <thead>\n",
       "    <tr style=\"text-align: right;\">\n",
       "      <th></th>\n",
       "      <th>product_id</th>\n",
       "      <th>product_name</th>\n",
       "      <th>product_code</th>\n",
       "    </tr>\n",
       "  </thead>\n",
       "  <tbody>\n",
       "    <tr>\n",
       "      <th>1</th>\n",
       "      <td>P-012</td>\n",
       "      <td>Antreprenè Sistèm Filtraj ak Pye / Entrepreneu...</td>\n",
       "      <td>NaN</td>\n",
       "    </tr>\n",
       "    <tr>\n",
       "      <th>2</th>\n",
       "      <td>P-012</td>\n",
       "      <td>Antreprenè Sistèm Filtraj ak Pye / Entrepreneu...</td>\n",
       "      <td>6473</td>\n",
       "    </tr>\n",
       "    <tr>\n",
       "      <th>3</th>\n",
       "      <td>P-012</td>\n",
       "      <td>Antreprenè Sistèm Filtraj ak Pye / Entrepreneu...</td>\n",
       "      <td>6427</td>\n",
       "    </tr>\n",
       "    <tr>\n",
       "      <th>4</th>\n",
       "      <td>P-012</td>\n",
       "      <td>Antreprenè Sistèm Filtraj ak Pye / Entrepreneu...</td>\n",
       "      <td>6426</td>\n",
       "    </tr>\n",
       "    <tr>\n",
       "      <th>5</th>\n",
       "      <td>P-012</td>\n",
       "      <td>Antreprenè Sistèm Filtraj ak Pye / Entrepreneu...</td>\n",
       "      <td>6623</td>\n",
       "    </tr>\n",
       "    <tr>\n",
       "      <th>...</th>\n",
       "      <td>...</td>\n",
       "      <td>...</td>\n",
       "      <td>...</td>\n",
       "    </tr>\n",
       "    <tr>\n",
       "      <th>931</th>\n",
       "      <td>P-007</td>\n",
       "      <td>Recho / Stove</td>\n",
       "      <td>NaN</td>\n",
       "    </tr>\n",
       "    <tr>\n",
       "      <th>932</th>\n",
       "      <td>P-007</td>\n",
       "      <td>Recho / Stove</td>\n",
       "      <td>NaN</td>\n",
       "    </tr>\n",
       "    <tr>\n",
       "      <th>933</th>\n",
       "      <td>P-007</td>\n",
       "      <td>Recho / Stove</td>\n",
       "      <td>NaN</td>\n",
       "    </tr>\n",
       "    <tr>\n",
       "      <th>934</th>\n",
       "      <td>P-007</td>\n",
       "      <td>Recho / Stove</td>\n",
       "      <td>NaN</td>\n",
       "    </tr>\n",
       "    <tr>\n",
       "      <th>935</th>\n",
       "      <td>P-007</td>\n",
       "      <td>Recho / Stove</td>\n",
       "      <td>NaN</td>\n",
       "    </tr>\n",
       "  </tbody>\n",
       "</table>\n",
       "<p>935 rows × 3 columns</p>\n",
       "</div>"
      ],
      "text/plain": [
       "    product_id                                       product_name product_code\n",
       "1        P-012  Antreprenè Sistèm Filtraj ak Pye / Entrepreneu...          NaN\n",
       "2        P-012  Antreprenè Sistèm Filtraj ak Pye / Entrepreneu...         6473\n",
       "3        P-012  Antreprenè Sistèm Filtraj ak Pye / Entrepreneu...         6427\n",
       "4        P-012  Antreprenè Sistèm Filtraj ak Pye / Entrepreneu...         6426\n",
       "5        P-012  Antreprenè Sistèm Filtraj ak Pye / Entrepreneu...         6623\n",
       "..         ...                                                ...          ...\n",
       "931      P-007                                      Recho / Stove          NaN\n",
       "932      P-007                                      Recho / Stove          NaN\n",
       "933      P-007                                      Recho / Stove          NaN\n",
       "934      P-007                                      Recho / Stove          NaN\n",
       "935      P-007                                      Recho / Stove          NaN\n",
       "\n",
       "[935 rows x 3 columns]"
      ]
     },
     "execution_count": 24,
     "metadata": {},
     "output_type": "execute_result"
    }
   ],
   "source": [
    "sales[['product_id', 'product_name', 'product_code']]"
   ]
  },
  {
   "cell_type": "code",
   "execution_count": 25,
   "id": "362c7d09-ffb1-44b9-8a95-0309aaa2c327",
   "metadata": {},
   "outputs": [
    {
     "data": {
      "text/plain": [
       "2207    6\n",
       "6863    5\n",
       "6826    4\n",
       "6513    4\n",
       "6113    4\n",
       "       ..\n",
       "7051    1\n",
       "5758    1\n",
       "6458    1\n",
       "6461    1\n",
       "6224    1\n",
       "Name: product_code, Length: 572, dtype: int64"
      ]
     },
     "execution_count": 25,
     "metadata": {},
     "output_type": "execute_result"
    }
   ],
   "source": [
    "sales['product_code'].value_counts()"
   ]
  },
  {
   "cell_type": "code",
   "execution_count": 26,
   "id": "962362fb-252c-4e2c-8115-582313b92c2d",
   "metadata": {},
   "outputs": [
    {
     "data": {
      "text/plain": [
       "669    P-006\n",
       "670    P-006\n",
       "671    P-006\n",
       "672    P-006\n",
       "673    P-006\n",
       "825    P-006\n",
       "Name: product_id, dtype: object"
      ]
     },
     "execution_count": 26,
     "metadata": {},
     "output_type": "execute_result"
    }
   ],
   "source": [
    "sales[sales['product_code']=='2207']['product_id']"
   ]
  },
  {
   "cell_type": "markdown",
   "id": "546e47c4-f93d-4a3d-8830-457d8ad6ebdf",
   "metadata": {},
   "source": [
    "I'm really not sure what product code means, or why it's different from product ID.  Product code seems to be more specific than product ID, but not all products have a code."
   ]
  },
  {
   "cell_type": "code",
   "execution_count": 27,
   "id": "2ee7b3f7-a4fa-434e-8207-76d13956e95d",
   "metadata": {},
   "outputs": [
    {
     "data": {
      "text/plain": [
       "P-006    567\n",
       "P-007    217\n",
       "P-012    147\n",
       "P-014      4\n",
       "Name: product_id, dtype: int64"
      ]
     },
     "execution_count": 27,
     "metadata": {},
     "output_type": "execute_result"
    }
   ],
   "source": [
    "sales['product_id'].value_counts()"
   ]
  },
  {
   "cell_type": "code",
   "execution_count": 28,
   "id": "5d866f41-1d2e-4620-a3c4-143baab9e75a",
   "metadata": {},
   "outputs": [
    {
     "data": {
      "text/plain": [
       "Sistèm Filtraj ak Pye / Filter                            567\n",
       "Recho / Stove                                             217\n",
       "Antreprenè Sistèm Filtraj ak Pye / Entrepreneur Filter    147\n",
       "Filtre / Filter                                             4\n",
       "Name: product_name, dtype: int64"
      ]
     },
     "execution_count": 28,
     "metadata": {},
     "output_type": "execute_result"
    }
   ],
   "source": [
    "sales['product_name'].value_counts()"
   ]
  },
  {
   "cell_type": "markdown",
   "id": "0d206319-1571-4fe6-8803-0a6050014bca",
   "metadata": {},
   "source": [
    "It appears certain that there is a 1-to-1 relationship between product ID and product name.  It is not clear what the difference is between the three different filters."
   ]
  },
  {
   "cell_type": "code",
   "execution_count": 29,
   "id": "5a549fac-0309-4c23-a566-e5b9d5e5d9c6",
   "metadata": {},
   "outputs": [
    {
     "data": {
      "text/html": [
       "<div>\n",
       "<style scoped>\n",
       "    .dataframe tbody tr th:only-of-type {\n",
       "        vertical-align: middle;\n",
       "    }\n",
       "\n",
       "    .dataframe tbody tr th {\n",
       "        vertical-align: top;\n",
       "    }\n",
       "\n",
       "    .dataframe thead th {\n",
       "        text-align: right;\n",
       "    }\n",
       "</style>\n",
       "<table border=\"1\" class=\"dataframe\">\n",
       "  <thead>\n",
       "    <tr style=\"text-align: right;\">\n",
       "      <th></th>\n",
       "      <th>product_id</th>\n",
       "      <th>warehouse_id</th>\n",
       "      <th>pricebook_id</th>\n",
       "      <th>id_entrepreneur</th>\n",
       "      <th>id_business</th>\n",
       "    </tr>\n",
       "  </thead>\n",
       "  <tbody>\n",
       "    <tr>\n",
       "      <th>1</th>\n",
       "      <td>P-012</td>\n",
       "      <td>WH-0335</td>\n",
       "      <td>PB-006</td>\n",
       "      <td>C-1120</td>\n",
       "      <td>A=01321</td>\n",
       "    </tr>\n",
       "    <tr>\n",
       "      <th>2</th>\n",
       "      <td>P-012</td>\n",
       "      <td>WH-0531</td>\n",
       "      <td>PB-006</td>\n",
       "      <td>C-1142</td>\n",
       "      <td>A=01336</td>\n",
       "    </tr>\n",
       "    <tr>\n",
       "      <th>3</th>\n",
       "      <td>P-012</td>\n",
       "      <td>WH-0531</td>\n",
       "      <td>PB-006</td>\n",
       "      <td>C-1142</td>\n",
       "      <td>A=01336</td>\n",
       "    </tr>\n",
       "    <tr>\n",
       "      <th>4</th>\n",
       "      <td>P-012</td>\n",
       "      <td>WH-0531</td>\n",
       "      <td>PB-006</td>\n",
       "      <td>C-1142</td>\n",
       "      <td>A=01336</td>\n",
       "    </tr>\n",
       "    <tr>\n",
       "      <th>5</th>\n",
       "      <td>P-012</td>\n",
       "      <td>WH-0531</td>\n",
       "      <td>PB-006</td>\n",
       "      <td>C-1142</td>\n",
       "      <td>A=01336</td>\n",
       "    </tr>\n",
       "    <tr>\n",
       "      <th>...</th>\n",
       "      <td>...</td>\n",
       "      <td>...</td>\n",
       "      <td>...</td>\n",
       "      <td>...</td>\n",
       "      <td>...</td>\n",
       "    </tr>\n",
       "    <tr>\n",
       "      <th>931</th>\n",
       "      <td>P-007</td>\n",
       "      <td>WH-0118</td>\n",
       "      <td>PB-006</td>\n",
       "      <td>C-656</td>\n",
       "      <td>A=00564</td>\n",
       "    </tr>\n",
       "    <tr>\n",
       "      <th>932</th>\n",
       "      <td>P-007</td>\n",
       "      <td>WH-0118</td>\n",
       "      <td>PB-006</td>\n",
       "      <td>C-656</td>\n",
       "      <td>A=00564</td>\n",
       "    </tr>\n",
       "    <tr>\n",
       "      <th>933</th>\n",
       "      <td>P-007</td>\n",
       "      <td>WH-0118</td>\n",
       "      <td>PB-006</td>\n",
       "      <td>C-656</td>\n",
       "      <td>A=00564</td>\n",
       "    </tr>\n",
       "    <tr>\n",
       "      <th>934</th>\n",
       "      <td>P-007</td>\n",
       "      <td>WH-0118</td>\n",
       "      <td>PB-006</td>\n",
       "      <td>C-5569</td>\n",
       "      <td>A=00564</td>\n",
       "    </tr>\n",
       "    <tr>\n",
       "      <th>935</th>\n",
       "      <td>P-007</td>\n",
       "      <td>WH-0146</td>\n",
       "      <td>PB-006</td>\n",
       "      <td>C-651</td>\n",
       "      <td>A=00784</td>\n",
       "    </tr>\n",
       "  </tbody>\n",
       "</table>\n",
       "<p>935 rows × 5 columns</p>\n",
       "</div>"
      ],
      "text/plain": [
       "    product_id warehouse_id pricebook_id id_entrepreneur id_business\n",
       "1        P-012      WH-0335       PB-006          C-1120     A=01321\n",
       "2        P-012      WH-0531       PB-006          C-1142     A=01336\n",
       "3        P-012      WH-0531       PB-006          C-1142     A=01336\n",
       "4        P-012      WH-0531       PB-006          C-1142     A=01336\n",
       "5        P-012      WH-0531       PB-006          C-1142     A=01336\n",
       "..         ...          ...          ...             ...         ...\n",
       "931      P-007      WH-0118       PB-006           C-656     A=00564\n",
       "932      P-007      WH-0118       PB-006           C-656     A=00564\n",
       "933      P-007      WH-0118       PB-006           C-656     A=00564\n",
       "934      P-007      WH-0118       PB-006          C-5569     A=00564\n",
       "935      P-007      WH-0146       PB-006           C-651     A=00784\n",
       "\n",
       "[935 rows x 5 columns]"
      ]
     },
     "execution_count": 29,
     "metadata": {},
     "output_type": "execute_result"
    }
   ],
   "source": [
    "sales[['product_id', 'warehouse_id', 'pricebook_id', 'id_entrepreneur', 'id_business']]"
   ]
  },
  {
   "cell_type": "code",
   "execution_count": 30,
   "id": "cd8ac85a-8670-4623-8d3d-20c52e2410dd",
   "metadata": {},
   "outputs": [
    {
     "data": {
      "text/plain": [
       "2      P-012\n",
       "3      P-012\n",
       "4      P-012\n",
       "5      P-012\n",
       "6      P-012\n",
       "       ...  \n",
       "903    P-006\n",
       "904    P-007\n",
       "905    P-007\n",
       "906    P-007\n",
       "907    P-006\n",
       "Name: product_id, Length: 173, dtype: object"
      ]
     },
     "execution_count": 30,
     "metadata": {},
     "output_type": "execute_result"
    }
   ],
   "source": [
    "sales[sales['warehouse_id']=='WH-0531']['product_id']"
   ]
  },
  {
   "cell_type": "markdown",
   "id": "7c314714-6ef2-4e24-b17b-d5b645dd789d",
   "metadata": {},
   "source": [
    "There is a many-to-many relationship between product ID and warehouse ID, suggesting that the warehouses are not specialized."
   ]
  },
  {
   "cell_type": "code",
   "execution_count": 31,
   "id": "943bb12d-df17-45f0-8e94-0d9fa77d1046",
   "metadata": {},
   "outputs": [
    {
     "data": {
      "text/plain": [
       "2      C-1142\n",
       "3      C-1142\n",
       "4      C-1142\n",
       "5      C-1142\n",
       "6      C-3974\n",
       "        ...  \n",
       "903    C-1142\n",
       "904    C-1142\n",
       "905    C-1142\n",
       "906    C-3972\n",
       "907    C-3973\n",
       "Name: id_entrepreneur, Length: 173, dtype: object"
      ]
     },
     "execution_count": 31,
     "metadata": {},
     "output_type": "execute_result"
    }
   ],
   "source": [
    "sales[sales['id_business']=='A=01336']['id_entrepreneur']"
   ]
  },
  {
   "cell_type": "code",
   "execution_count": 32,
   "id": "afba0284-0b7f-48f3-b3ba-d765f257c559",
   "metadata": {},
   "outputs": [
    {
     "data": {
      "text/plain": [
       "A=01336    86\n",
       "Name: id_business, dtype: int64"
      ]
     },
     "execution_count": 32,
     "metadata": {},
     "output_type": "execute_result"
    }
   ],
   "source": [
    "sales[sales['id_entrepreneur']=='C-1142']['id_business'].value_counts()"
   ]
  },
  {
   "cell_type": "code",
   "execution_count": 33,
   "id": "ae242fa3-ae87-412d-a832-356266372b91",
   "metadata": {},
   "outputs": [],
   "source": [
    "for entrepreneur in sales['id_entrepreneur'].unique():\n",
    "    if len(sales[sales['id_entrepreneur']==entrepreneur]['id_business'].value_counts()) != 1:\n",
    "        print('Found an entrepreneur associated with multiple businesses.')"
   ]
  },
  {
   "cell_type": "markdown",
   "id": "ceca7c03-d373-40e8-aa6e-d3fa07c474af",
   "metadata": {},
   "source": [
    "It appears that each entrepreneur is associated with a single business."
   ]
  },
  {
   "cell_type": "code",
   "execution_count": 34,
   "id": "8079f6e5-3242-4f2d-b65d-fdbaa51577c8",
   "metadata": {},
   "outputs": [
    {
     "data": {
      "text/plain": [
       "PB-006    926\n",
       "PB-002      9\n",
       "Name: pricebook_id, dtype: int64"
      ]
     },
     "execution_count": 34,
     "metadata": {},
     "output_type": "execute_result"
    }
   ],
   "source": [
    "sales['pricebook_id'].value_counts()"
   ]
  },
  {
   "cell_type": "code",
   "execution_count": 35,
   "id": "4fc9fa05-cb36-4ff3-bd5c-53982c0c98a3",
   "metadata": {},
   "outputs": [
    {
     "data": {
      "text/plain": [
       "product_id  product_name                                          \n",
       "P-006       Sistèm Filtraj ak Pye / Filter                            562\n",
       "P-007       Recho / Stove                                             217\n",
       "P-012       Antreprenè Sistèm Filtraj ak Pye / Entrepreneur Filter    147\n",
       "dtype: int64"
      ]
     },
     "execution_count": 35,
     "metadata": {},
     "output_type": "execute_result"
    }
   ],
   "source": [
    "sales[sales['pricebook_id']=='PB-006'][['product_id', 'product_name']].value_counts()"
   ]
  },
  {
   "cell_type": "code",
   "execution_count": 36,
   "id": "6bf20c9a-9e63-4f13-be98-f88f22b9f5a2",
   "metadata": {},
   "outputs": [
    {
     "data": {
      "text/plain": [
       "product_id  product_name                  \n",
       "P-006       Sistèm Filtraj ak Pye / Filter    5\n",
       "P-014       Filtre / Filter                   4\n",
       "dtype: int64"
      ]
     },
     "execution_count": 36,
     "metadata": {},
     "output_type": "execute_result"
    }
   ],
   "source": [
    "sales[sales['pricebook_id']=='PB-002'][['product_id', 'product_name']].value_counts()"
   ]
  },
  {
   "cell_type": "markdown",
   "id": "f5c69518-d619-4382-bdb0-43cf7c121b98",
   "metadata": {},
   "source": [
    "Although there are two different pricebooks, one is used very infrequently.  At least one product appears in both pricebooks."
   ]
  },
  {
   "cell_type": "code",
   "execution_count": 53,
   "id": "5913eae7-b4ba-4839-9e3f-778c66d1abc9",
   "metadata": {},
   "outputs": [
    {
     "data": {
      "text/plain": [
       "P-006    567\n",
       "P-007    217\n",
       "P-012    147\n",
       "P-014      4\n",
       "Name: product_id, dtype: int64"
      ]
     },
     "execution_count": 53,
     "metadata": {},
     "output_type": "execute_result"
    }
   ],
   "source": [
    "sales['product_id'].value_counts()"
   ]
  },
  {
   "cell_type": "code",
   "execution_count": 39,
   "id": "c07de52c-4a26-46a1-9e61-cfdd0c55cb95",
   "metadata": {},
   "outputs": [
    {
     "data": {
      "text/html": [
       "<div>\n",
       "<style scoped>\n",
       "    .dataframe tbody tr th:only-of-type {\n",
       "        vertical-align: middle;\n",
       "    }\n",
       "\n",
       "    .dataframe tbody tr th {\n",
       "        vertical-align: top;\n",
       "    }\n",
       "\n",
       "    .dataframe thead th {\n",
       "        text-align: right;\n",
       "    }\n",
       "</style>\n",
       "<table border=\"1\" class=\"dataframe\">\n",
       "  <thead>\n",
       "    <tr style=\"text-align: right;\">\n",
       "      <th></th>\n",
       "      <th>pricebook_id</th>\n",
       "      <th>deposit_expected</th>\n",
       "      <th>price_product</th>\n",
       "      <th>cash_discount_amount</th>\n",
       "      <th>price_product_total</th>\n",
       "      <th>price_cash_discount_total</th>\n",
       "      <th>full_pay</th>\n",
       "      <th>deposit_expected_2</th>\n",
       "      <th>deposit_amount</th>\n",
       "      <th>expected_payment</th>\n",
       "      <th>cash_payment_amount</th>\n",
       "    </tr>\n",
       "  </thead>\n",
       "  <tbody>\n",
       "    <tr>\n",
       "      <th>1</th>\n",
       "      <td>PB-006</td>\n",
       "      <td>2900</td>\n",
       "      <td>2900.0</td>\n",
       "      <td>2900.0</td>\n",
       "      <td>2900.0</td>\n",
       "      <td>2900</td>\n",
       "      <td>Wi / Yes</td>\n",
       "      <td>NaN</td>\n",
       "      <td>NaN</td>\n",
       "      <td>2900.0</td>\n",
       "      <td>2900.0</td>\n",
       "    </tr>\n",
       "    <tr>\n",
       "      <th>2</th>\n",
       "      <td>PB-006</td>\n",
       "      <td>2900</td>\n",
       "      <td>2900.0</td>\n",
       "      <td>2900.0</td>\n",
       "      <td>2900.0</td>\n",
       "      <td>2900</td>\n",
       "      <td>Wi / Yes</td>\n",
       "      <td>NaN</td>\n",
       "      <td>NaN</td>\n",
       "      <td>2900.0</td>\n",
       "      <td>2900.0</td>\n",
       "    </tr>\n",
       "    <tr>\n",
       "      <th>3</th>\n",
       "      <td>PB-006</td>\n",
       "      <td>2900</td>\n",
       "      <td>2900.0</td>\n",
       "      <td>2900.0</td>\n",
       "      <td>2900.0</td>\n",
       "      <td>2900</td>\n",
       "      <td>Wi / Yes</td>\n",
       "      <td>NaN</td>\n",
       "      <td>NaN</td>\n",
       "      <td>2900.0</td>\n",
       "      <td>2900.0</td>\n",
       "    </tr>\n",
       "    <tr>\n",
       "      <th>4</th>\n",
       "      <td>PB-006</td>\n",
       "      <td>2900</td>\n",
       "      <td>2900.0</td>\n",
       "      <td>2900.0</td>\n",
       "      <td>2900.0</td>\n",
       "      <td>2900</td>\n",
       "      <td>Wi / Yes</td>\n",
       "      <td>NaN</td>\n",
       "      <td>NaN</td>\n",
       "      <td>2900.0</td>\n",
       "      <td>2900.0</td>\n",
       "    </tr>\n",
       "    <tr>\n",
       "      <th>5</th>\n",
       "      <td>PB-006</td>\n",
       "      <td>2900</td>\n",
       "      <td>2900.0</td>\n",
       "      <td>2900.0</td>\n",
       "      <td>2900.0</td>\n",
       "      <td>2900</td>\n",
       "      <td>Wi / Yes</td>\n",
       "      <td>NaN</td>\n",
       "      <td>NaN</td>\n",
       "      <td>2900.0</td>\n",
       "      <td>2900.0</td>\n",
       "    </tr>\n",
       "    <tr>\n",
       "      <th>...</th>\n",
       "      <td>...</td>\n",
       "      <td>...</td>\n",
       "      <td>...</td>\n",
       "      <td>...</td>\n",
       "      <td>...</td>\n",
       "      <td>...</td>\n",
       "      <td>...</td>\n",
       "      <td>...</td>\n",
       "      <td>...</td>\n",
       "      <td>...</td>\n",
       "      <td>...</td>\n",
       "    </tr>\n",
       "    <tr>\n",
       "      <th>931</th>\n",
       "      <td>PB-006</td>\n",
       "      <td>1500</td>\n",
       "      <td>3000.0</td>\n",
       "      <td>2500.0</td>\n",
       "      <td>3000.0</td>\n",
       "      <td>2500</td>\n",
       "      <td>Non / No</td>\n",
       "      <td>1500.0</td>\n",
       "      <td>1500</td>\n",
       "      <td>NaN</td>\n",
       "      <td>NaN</td>\n",
       "    </tr>\n",
       "    <tr>\n",
       "      <th>932</th>\n",
       "      <td>PB-006</td>\n",
       "      <td>1500</td>\n",
       "      <td>3000.0</td>\n",
       "      <td>2500.0</td>\n",
       "      <td>3000.0</td>\n",
       "      <td>2500</td>\n",
       "      <td>Non / No</td>\n",
       "      <td>1500.0</td>\n",
       "      <td>1500</td>\n",
       "      <td>NaN</td>\n",
       "      <td>NaN</td>\n",
       "    </tr>\n",
       "    <tr>\n",
       "      <th>933</th>\n",
       "      <td>PB-006</td>\n",
       "      <td>1500</td>\n",
       "      <td>3000.0</td>\n",
       "      <td>2500.0</td>\n",
       "      <td>3000.0</td>\n",
       "      <td>2500</td>\n",
       "      <td>Non / No</td>\n",
       "      <td>1500.0</td>\n",
       "      <td>1500</td>\n",
       "      <td>NaN</td>\n",
       "      <td>NaN</td>\n",
       "    </tr>\n",
       "    <tr>\n",
       "      <th>934</th>\n",
       "      <td>PB-006</td>\n",
       "      <td>1500</td>\n",
       "      <td>3000.0</td>\n",
       "      <td>2500.0</td>\n",
       "      <td>3000.0</td>\n",
       "      <td>2500</td>\n",
       "      <td>Wi / Yes</td>\n",
       "      <td>NaN</td>\n",
       "      <td>NaN</td>\n",
       "      <td>2500.0</td>\n",
       "      <td>2500.0</td>\n",
       "    </tr>\n",
       "    <tr>\n",
       "      <th>935</th>\n",
       "      <td>PB-006</td>\n",
       "      <td>1500</td>\n",
       "      <td>3000.0</td>\n",
       "      <td>2500.0</td>\n",
       "      <td>3000.0</td>\n",
       "      <td>2500</td>\n",
       "      <td>Non / No</td>\n",
       "      <td>1500.0</td>\n",
       "      <td>2000</td>\n",
       "      <td>NaN</td>\n",
       "      <td>NaN</td>\n",
       "    </tr>\n",
       "  </tbody>\n",
       "</table>\n",
       "<p>935 rows × 11 columns</p>\n",
       "</div>"
      ],
      "text/plain": [
       "    pricebook_id deposit_expected price_product cash_discount_amount  \\\n",
       "1         PB-006             2900        2900.0               2900.0   \n",
       "2         PB-006             2900        2900.0               2900.0   \n",
       "3         PB-006             2900        2900.0               2900.0   \n",
       "4         PB-006             2900        2900.0               2900.0   \n",
       "5         PB-006             2900        2900.0               2900.0   \n",
       "..           ...              ...           ...                  ...   \n",
       "931       PB-006             1500        3000.0               2500.0   \n",
       "932       PB-006             1500        3000.0               2500.0   \n",
       "933       PB-006             1500        3000.0               2500.0   \n",
       "934       PB-006             1500        3000.0               2500.0   \n",
       "935       PB-006             1500        3000.0               2500.0   \n",
       "\n",
       "    price_product_total price_cash_discount_total  full_pay  \\\n",
       "1                2900.0                      2900  Wi / Yes   \n",
       "2                2900.0                      2900  Wi / Yes   \n",
       "3                2900.0                      2900  Wi / Yes   \n",
       "4                2900.0                      2900  Wi / Yes   \n",
       "5                2900.0                      2900  Wi / Yes   \n",
       "..                  ...                       ...       ...   \n",
       "931              3000.0                      2500  Non / No   \n",
       "932              3000.0                      2500  Non / No   \n",
       "933              3000.0                      2500  Non / No   \n",
       "934              3000.0                      2500  Wi / Yes   \n",
       "935              3000.0                      2500  Non / No   \n",
       "\n",
       "    deposit_expected_2 deposit_amount expected_payment cash_payment_amount  \n",
       "1                  NaN            NaN           2900.0              2900.0  \n",
       "2                  NaN            NaN           2900.0              2900.0  \n",
       "3                  NaN            NaN           2900.0              2900.0  \n",
       "4                  NaN            NaN           2900.0              2900.0  \n",
       "5                  NaN            NaN           2900.0              2900.0  \n",
       "..                 ...            ...              ...                 ...  \n",
       "931             1500.0           1500              NaN                 NaN  \n",
       "932             1500.0           1500              NaN                 NaN  \n",
       "933             1500.0           1500              NaN                 NaN  \n",
       "934                NaN            NaN           2500.0              2500.0  \n",
       "935             1500.0           2000              NaN                 NaN  \n",
       "\n",
       "[935 rows x 11 columns]"
      ]
     },
     "execution_count": 39,
     "metadata": {},
     "output_type": "execute_result"
    }
   ],
   "source": [
    "sales[['pricebook_id', 'deposit_expected', 'price_product', 'cash_discount_amount',\n",
    "                                        'price_product_total', 'price_cash_discount_total', 'full_pay', 'deposit_expected_2',\n",
    "                                        'deposit_amount', 'expected_payment', 'cash_payment_amount']]"
   ]
  },
  {
   "cell_type": "markdown",
   "id": "7a864f7e-7742-4a08-b4a1-e78f0f11a850",
   "metadata": {},
   "source": [
    "Based on the above, there is some reduncancy in the way pricing information is being recorded.\n",
    "\n",
    "Below, I am extracting the price of each product from each pricebook, both for full pay and loan transactions."
   ]
  },
  {
   "cell_type": "code",
   "execution_count": 66,
   "id": "38d1314b-4c58-4c74-ba47-1bb8a0e24336",
   "metadata": {},
   "outputs": [
    {
     "data": {
      "text/plain": [
       "3500.0     437\n",
       "7000.0       2\n",
       "10500.0      2\n",
       "Name: expected_payment, dtype: int64"
      ]
     },
     "execution_count": 66,
     "metadata": {},
     "output_type": "execute_result"
    }
   ],
   "source": [
    "sales[(sales['pricebook_id'] == 'PB-006') & (sales['full_pay'] == 'Wi / Yes') & (sales['product_id'] == 'P-006')]['expected_payment'].value_counts()"
   ]
  },
  {
   "cell_type": "code",
   "execution_count": 75,
   "id": "91d2d31f-710c-44fc-810b-c767b81b5d1e",
   "metadata": {},
   "outputs": [
    {
     "data": {
      "text/plain": [
       "deposit_expected  price_product\n",
       "2050              4100.0           121\n",
       "dtype: int64"
      ]
     },
     "execution_count": 75,
     "metadata": {},
     "output_type": "execute_result"
    }
   ],
   "source": [
    "sales[(sales['pricebook_id'] == 'PB-006') & (sales['full_pay'] == 'Non / No') & (sales['product_id'] == 'P-006')][['deposit_expected', 'price_product']].value_counts()"
   ]
  },
  {
   "cell_type": "code",
   "execution_count": 72,
   "id": "2a167600-1b75-443c-93b2-68152da5298f",
   "metadata": {},
   "outputs": [
    {
     "data": {
      "text/plain": [
       "4650.0    3\n",
       "Name: expected_payment, dtype: int64"
      ]
     },
     "execution_count": 72,
     "metadata": {},
     "output_type": "execute_result"
    }
   ],
   "source": [
    "sales[(sales['pricebook_id'] == 'PB-002') & (sales['full_pay'] == 'Wi / Yes') & (sales['product_id'] == 'P-006')]['expected_payment'].value_counts()"
   ]
  },
  {
   "cell_type": "code",
   "execution_count": 76,
   "id": "afd7212d-021c-4bed-898f-0629bfc5e9ad",
   "metadata": {},
   "outputs": [
    {
     "data": {
      "text/plain": [
       "deposit_expected  price_product\n",
       "1500              5550.0           2\n",
       "dtype: int64"
      ]
     },
     "execution_count": 76,
     "metadata": {},
     "output_type": "execute_result"
    }
   ],
   "source": [
    "sales[(sales['pricebook_id'] == 'PB-002') & (sales['full_pay'] == 'Non / No') & (sales['product_id'] == 'P-006')][['deposit_expected', 'price_product']].value_counts()"
   ]
  },
  {
   "cell_type": "code",
   "execution_count": 68,
   "id": "2478cdfd-baa4-4819-a62e-9add04d3f2b6",
   "metadata": {},
   "outputs": [
    {
     "data": {
      "text/plain": [
       "2900.0    137\n",
       "Name: expected_payment, dtype: int64"
      ]
     },
     "execution_count": 68,
     "metadata": {},
     "output_type": "execute_result"
    }
   ],
   "source": [
    "sales[(sales['pricebook_id'] == 'PB-006') & (sales['full_pay'] == 'Wi / Yes') & (sales['product_id'] == 'P-012')]['expected_payment'].value_counts()"
   ]
  },
  {
   "cell_type": "code",
   "execution_count": 77,
   "id": "69e3068a-0261-45b3-a905-fab2a64fd90b",
   "metadata": {},
   "outputs": [
    {
     "data": {
      "text/plain": [
       "deposit_expected  price_product\n",
       "2900              2900.0           10\n",
       "dtype: int64"
      ]
     },
     "execution_count": 77,
     "metadata": {},
     "output_type": "execute_result"
    }
   ],
   "source": [
    "sales[(sales['pricebook_id'] == 'PB-006') & (sales['full_pay'] == 'Non / No') & (sales['product_id'] == 'P-012')][['deposit_expected', 'price_product']].value_counts()"
   ]
  },
  {
   "cell_type": "code",
   "execution_count": 70,
   "id": "cf3ffc85-f432-42d3-a9f5-130e7e7baaaf",
   "metadata": {},
   "outputs": [
    {
     "data": {
      "text/plain": [
       "2500.0    142\n",
       "5000.0      2\n",
       "7500.0      1\n",
       "Name: expected_payment, dtype: int64"
      ]
     },
     "execution_count": 70,
     "metadata": {},
     "output_type": "execute_result"
    }
   ],
   "source": [
    "sales[(sales['pricebook_id'] == 'PB-006') & (sales['full_pay'] == 'Wi / Yes') & (sales['product_id'] == 'P-007')]['expected_payment'].value_counts()"
   ]
  },
  {
   "cell_type": "code",
   "execution_count": 78,
   "id": "08192607-799f-4e79-8957-9bb51a26bbcd",
   "metadata": {},
   "outputs": [
    {
     "data": {
      "text/plain": [
       "deposit_expected  price_product\n",
       "1500              3000.0           72\n",
       "dtype: int64"
      ]
     },
     "execution_count": 78,
     "metadata": {},
     "output_type": "execute_result"
    }
   ],
   "source": [
    "sales[(sales['pricebook_id'] == 'PB-006') & (sales['full_pay'] == 'Non / No') & (sales['product_id'] == 'P-007')][['deposit_expected', 'price_product']].value_counts()"
   ]
  },
  {
   "cell_type": "code",
   "execution_count": 79,
   "id": "cc5dd3dd-27bc-4fba-81c7-b13affea0ad4",
   "metadata": {},
   "outputs": [
    {
     "data": {
      "text/plain": [
       "2500.0    4\n",
       "Name: expected_payment, dtype: int64"
      ]
     },
     "execution_count": 79,
     "metadata": {},
     "output_type": "execute_result"
    }
   ],
   "source": [
    "sales[(sales['pricebook_id'] == 'PB-002') & (sales['full_pay'] == 'Wi / Yes') & (sales['product_id'] == 'P-014')]['expected_payment'].value_counts()"
   ]
  },
  {
   "cell_type": "code",
   "execution_count": 80,
   "id": "5a94a460-d293-403f-b3ac-831da03dc020",
   "metadata": {},
   "outputs": [
    {
     "data": {
      "text/plain": [
       "Series([], dtype: int64)"
      ]
     },
     "execution_count": 80,
     "metadata": {},
     "output_type": "execute_result"
    }
   ],
   "source": [
    "sales[(sales['pricebook_id'] == 'PB-002') & (sales['full_pay'] == 'Non / No') & (sales['product_id'] == 'P-014')][['deposit_expected', 'price_product']].value_counts()"
   ]
  }
 ],
 "metadata": {
  "kernelspec": {
   "display_name": "Python 3 (ipykernel)",
   "language": "python",
   "name": "python3"
  },
  "language_info": {
   "codemirror_mode": {
    "name": "ipython",
    "version": 3
   },
   "file_extension": ".py",
   "mimetype": "text/x-python",
   "name": "python",
   "nbconvert_exporter": "python",
   "pygments_lexer": "ipython3",
   "version": "3.8.12"
  }
 },
 "nbformat": 4,
 "nbformat_minor": 5
}
